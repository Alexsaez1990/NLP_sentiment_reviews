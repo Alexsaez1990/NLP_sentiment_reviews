{
  "nbformat": 4,
  "nbformat_minor": 0,
  "metadata": {
    "colab": {
      "provenance": []
    },
    "kernelspec": {
      "name": "python3",
      "display_name": "Python 3"
    },
    "language_info": {
      "name": "python"
    }
  },
  "cells": [
    {
      "cell_type": "markdown",
      "source": [
        "## **3.1 Carga de datos**"
      ],
      "metadata": {
        "id": "NkIKaORnGsiJ"
      }
    },
    {
      "cell_type": "code",
      "source": [
        "from google.colab import drive\n",
        "drive.mount('/content/drive')"
      ],
      "metadata": {
        "colab": {
          "base_uri": "https://localhost:8080/"
        },
        "id": "YxGN_uLfrcfX",
        "outputId": "0bb0c279-3b4a-4895-bc2c-8c4268a04eca"
      },
      "execution_count": 1,
      "outputs": [
        {
          "output_type": "stream",
          "name": "stdout",
          "text": [
            "Drive already mounted at /content/drive; to attempt to forcibly remount, call drive.mount(\"/content/drive\", force_remount=True).\n"
          ]
        }
      ]
    },
    {
      "cell_type": "code",
      "execution_count": 2,
      "metadata": {
        "id": "Y8MXY_vXtqrI"
      },
      "outputs": [],
      "source": [
        "import pandas as pd\n",
        "\n",
        "df_processed = pd.read_csv('/content/drive/MyDrive/NLP/df_processed.csv')\n",
        "\n",
        "# Vamos a eliminar los posibles na que han podido aparecer en el preprocesado. Se deben a reviews que solo contenian stop words, y vimos que eran unas 50\n",
        "df_processed.dropna(inplace=True)"
      ]
    },
    {
      "cell_type": "code",
      "source": [
        "df_processed.head()"
      ],
      "metadata": {
        "colab": {
          "base_uri": "https://localhost:8080/",
          "height": 206
        },
        "id": "UWwTi5DBvSjy",
        "outputId": "db098711-889f-400a-e048-826f4d003804"
      },
      "execution_count": null,
      "outputs": [
        {
          "output_type": "execute_result",
          "data": {
            "text/plain": [
              "                                          reviewText  sentiment  \\\n",
              "0  It's got a lot more kick than what you'll find...          1   \n",
              "1  Cookies seemed a little old, did not come with...          0   \n",
              "2  These caramels are grainy and tasteless. They ...          0   \n",
              "3                                 very good , strong          1   \n",
              "4  Not as good as home made from scratch, but not...          1   \n",
              "\n",
              "                                   processed_reviews  \n",
              "0  got lot kick find local grocery store give sol...  \n",
              "1  cooky seemed little old come bag heart domino ...  \n",
              "2  caramel grainy tasteless chewy like normal car...  \n",
              "3                                        good strong  \n",
              "4  good home made scratch bad lot easier sure bac...  "
            ],
            "text/html": [
              "\n",
              "\n",
              "  <div id=\"df-545ede76-6841-4ee8-9f93-c54f0ca8c149\">\n",
              "    <div class=\"colab-df-container\">\n",
              "      <div>\n",
              "<style scoped>\n",
              "    .dataframe tbody tr th:only-of-type {\n",
              "        vertical-align: middle;\n",
              "    }\n",
              "\n",
              "    .dataframe tbody tr th {\n",
              "        vertical-align: top;\n",
              "    }\n",
              "\n",
              "    .dataframe thead th {\n",
              "        text-align: right;\n",
              "    }\n",
              "</style>\n",
              "<table border=\"1\" class=\"dataframe\">\n",
              "  <thead>\n",
              "    <tr style=\"text-align: right;\">\n",
              "      <th></th>\n",
              "      <th>reviewText</th>\n",
              "      <th>sentiment</th>\n",
              "      <th>processed_reviews</th>\n",
              "    </tr>\n",
              "  </thead>\n",
              "  <tbody>\n",
              "    <tr>\n",
              "      <th>0</th>\n",
              "      <td>It's got a lot more kick than what you'll find...</td>\n",
              "      <td>1</td>\n",
              "      <td>got lot kick find local grocery store give sol...</td>\n",
              "    </tr>\n",
              "    <tr>\n",
              "      <th>1</th>\n",
              "      <td>Cookies seemed a little old, did not come with...</td>\n",
              "      <td>0</td>\n",
              "      <td>cooky seemed little old come bag heart domino ...</td>\n",
              "    </tr>\n",
              "    <tr>\n",
              "      <th>2</th>\n",
              "      <td>These caramels are grainy and tasteless. They ...</td>\n",
              "      <td>0</td>\n",
              "      <td>caramel grainy tasteless chewy like normal car...</td>\n",
              "    </tr>\n",
              "    <tr>\n",
              "      <th>3</th>\n",
              "      <td>very good , strong</td>\n",
              "      <td>1</td>\n",
              "      <td>good strong</td>\n",
              "    </tr>\n",
              "    <tr>\n",
              "      <th>4</th>\n",
              "      <td>Not as good as home made from scratch, but not...</td>\n",
              "      <td>1</td>\n",
              "      <td>good home made scratch bad lot easier sure bac...</td>\n",
              "    </tr>\n",
              "  </tbody>\n",
              "</table>\n",
              "</div>\n",
              "      <button class=\"colab-df-convert\" onclick=\"convertToInteractive('df-545ede76-6841-4ee8-9f93-c54f0ca8c149')\"\n",
              "              title=\"Convert this dataframe to an interactive table.\"\n",
              "              style=\"display:none;\">\n",
              "\n",
              "  <svg xmlns=\"http://www.w3.org/2000/svg\" height=\"24px\"viewBox=\"0 0 24 24\"\n",
              "       width=\"24px\">\n",
              "    <path d=\"M0 0h24v24H0V0z\" fill=\"none\"/>\n",
              "    <path d=\"M18.56 5.44l.94 2.06.94-2.06 2.06-.94-2.06-.94-.94-2.06-.94 2.06-2.06.94zm-11 1L8.5 8.5l.94-2.06 2.06-.94-2.06-.94L8.5 2.5l-.94 2.06-2.06.94zm10 10l.94 2.06.94-2.06 2.06-.94-2.06-.94-.94-2.06-.94 2.06-2.06.94z\"/><path d=\"M17.41 7.96l-1.37-1.37c-.4-.4-.92-.59-1.43-.59-.52 0-1.04.2-1.43.59L10.3 9.45l-7.72 7.72c-.78.78-.78 2.05 0 2.83L4 21.41c.39.39.9.59 1.41.59.51 0 1.02-.2 1.41-.59l7.78-7.78 2.81-2.81c.8-.78.8-2.07 0-2.86zM5.41 20L4 18.59l7.72-7.72 1.47 1.35L5.41 20z\"/>\n",
              "  </svg>\n",
              "      </button>\n",
              "\n",
              "\n",
              "\n",
              "    <div id=\"df-19e00aac-4a8b-4166-a1d1-93332e6128a6\">\n",
              "      <button class=\"colab-df-quickchart\" onclick=\"quickchart('df-19e00aac-4a8b-4166-a1d1-93332e6128a6')\"\n",
              "              title=\"Suggest charts.\"\n",
              "              style=\"display:none;\">\n",
              "\n",
              "<svg xmlns=\"http://www.w3.org/2000/svg\" height=\"24px\"viewBox=\"0 0 24 24\"\n",
              "     width=\"24px\">\n",
              "    <g>\n",
              "        <path d=\"M19 3H5c-1.1 0-2 .9-2 2v14c0 1.1.9 2 2 2h14c1.1 0 2-.9 2-2V5c0-1.1-.9-2-2-2zM9 17H7v-7h2v7zm4 0h-2V7h2v10zm4 0h-2v-4h2v4z\"/>\n",
              "    </g>\n",
              "</svg>\n",
              "      </button>\n",
              "    </div>\n",
              "\n",
              "<style>\n",
              "  .colab-df-quickchart {\n",
              "    background-color: #E8F0FE;\n",
              "    border: none;\n",
              "    border-radius: 50%;\n",
              "    cursor: pointer;\n",
              "    display: none;\n",
              "    fill: #1967D2;\n",
              "    height: 32px;\n",
              "    padding: 0 0 0 0;\n",
              "    width: 32px;\n",
              "  }\n",
              "\n",
              "  .colab-df-quickchart:hover {\n",
              "    background-color: #E2EBFA;\n",
              "    box-shadow: 0px 1px 2px rgba(60, 64, 67, 0.3), 0px 1px 3px 1px rgba(60, 64, 67, 0.15);\n",
              "    fill: #174EA6;\n",
              "  }\n",
              "\n",
              "  [theme=dark] .colab-df-quickchart {\n",
              "    background-color: #3B4455;\n",
              "    fill: #D2E3FC;\n",
              "  }\n",
              "\n",
              "  [theme=dark] .colab-df-quickchart:hover {\n",
              "    background-color: #434B5C;\n",
              "    box-shadow: 0px 1px 3px 1px rgba(0, 0, 0, 0.15);\n",
              "    filter: drop-shadow(0px 1px 2px rgba(0, 0, 0, 0.3));\n",
              "    fill: #FFFFFF;\n",
              "  }\n",
              "</style>\n",
              "\n",
              "    <script>\n",
              "      async function quickchart(key) {\n",
              "        const containerElement = document.querySelector('#' + key);\n",
              "        const charts = await google.colab.kernel.invokeFunction(\n",
              "            'suggestCharts', [key], {});\n",
              "      }\n",
              "    </script>\n",
              "\n",
              "      <script>\n",
              "\n",
              "function displayQuickchartButton(domScope) {\n",
              "  let quickchartButtonEl =\n",
              "    domScope.querySelector('#df-19e00aac-4a8b-4166-a1d1-93332e6128a6 button.colab-df-quickchart');\n",
              "  quickchartButtonEl.style.display =\n",
              "    google.colab.kernel.accessAllowed ? 'block' : 'none';\n",
              "}\n",
              "\n",
              "        displayQuickchartButton(document);\n",
              "      </script>\n",
              "      <style>\n",
              "    .colab-df-container {\n",
              "      display:flex;\n",
              "      flex-wrap:wrap;\n",
              "      gap: 12px;\n",
              "    }\n",
              "\n",
              "    .colab-df-convert {\n",
              "      background-color: #E8F0FE;\n",
              "      border: none;\n",
              "      border-radius: 50%;\n",
              "      cursor: pointer;\n",
              "      display: none;\n",
              "      fill: #1967D2;\n",
              "      height: 32px;\n",
              "      padding: 0 0 0 0;\n",
              "      width: 32px;\n",
              "    }\n",
              "\n",
              "    .colab-df-convert:hover {\n",
              "      background-color: #E2EBFA;\n",
              "      box-shadow: 0px 1px 2px rgba(60, 64, 67, 0.3), 0px 1px 3px 1px rgba(60, 64, 67, 0.15);\n",
              "      fill: #174EA6;\n",
              "    }\n",
              "\n",
              "    [theme=dark] .colab-df-convert {\n",
              "      background-color: #3B4455;\n",
              "      fill: #D2E3FC;\n",
              "    }\n",
              "\n",
              "    [theme=dark] .colab-df-convert:hover {\n",
              "      background-color: #434B5C;\n",
              "      box-shadow: 0px 1px 3px 1px rgba(0, 0, 0, 0.15);\n",
              "      filter: drop-shadow(0px 1px 2px rgba(0, 0, 0, 0.3));\n",
              "      fill: #FFFFFF;\n",
              "    }\n",
              "  </style>\n",
              "\n",
              "      <script>\n",
              "        const buttonEl =\n",
              "          document.querySelector('#df-545ede76-6841-4ee8-9f93-c54f0ca8c149 button.colab-df-convert');\n",
              "        buttonEl.style.display =\n",
              "          google.colab.kernel.accessAllowed ? 'block' : 'none';\n",
              "\n",
              "        async function convertToInteractive(key) {\n",
              "          const element = document.querySelector('#df-545ede76-6841-4ee8-9f93-c54f0ca8c149');\n",
              "          const dataTable =\n",
              "            await google.colab.kernel.invokeFunction('convertToInteractive',\n",
              "                                                     [key], {});\n",
              "          if (!dataTable) return;\n",
              "\n",
              "          const docLinkHtml = 'Like what you see? Visit the ' +\n",
              "            '<a target=\"_blank\" href=https://colab.research.google.com/notebooks/data_table.ipynb>data table notebook</a>'\n",
              "            + ' to learn more about interactive tables.';\n",
              "          element.innerHTML = '';\n",
              "          dataTable['output_type'] = 'display_data';\n",
              "          await google.colab.output.renderOutput(dataTable, element);\n",
              "          const docLink = document.createElement('div');\n",
              "          docLink.innerHTML = docLinkHtml;\n",
              "          element.appendChild(docLink);\n",
              "        }\n",
              "      </script>\n",
              "    </div>\n",
              "  </div>\n"
            ]
          },
          "metadata": {},
          "execution_count": 3
        }
      ]
    },
    {
      "cell_type": "code",
      "source": [
        "df_processed.info()"
      ],
      "metadata": {
        "colab": {
          "base_uri": "https://localhost:8080/"
        },
        "id": "7u-MIPSYBhqW",
        "outputId": "a0ee7dbe-9dcf-47d5-a96f-adf0be2c47e8"
      },
      "execution_count": null,
      "outputs": [
        {
          "output_type": "stream",
          "name": "stdout",
          "text": [
            "<class 'pandas.core.frame.DataFrame'>\n",
            "Int64Index: 40714 entries, 0 to 40764\n",
            "Data columns (total 3 columns):\n",
            " #   Column             Non-Null Count  Dtype \n",
            "---  ------             --------------  ----- \n",
            " 0   reviewText         40714 non-null  object\n",
            " 1   sentiment          40714 non-null  int64 \n",
            " 2   processed_reviews  40714 non-null  object\n",
            "dtypes: int64(1), object(2)\n",
            "memory usage: 1.2+ MB\n"
          ]
        }
      ]
    },
    {
      "cell_type": "markdown",
      "source": [
        "## **3.2 División y Vectorización**"
      ],
      "metadata": {
        "id": "odkESduoG4Rr"
      }
    },
    {
      "cell_type": "markdown",
      "source": [
        "Ahora vamos a preparar los datos para poder entrenar un modelo usando Bag of Words (BoW). Trataremos después de hacer una búsqueda de hiperparámetros que pueda optimizar el resultado."
      ],
      "metadata": {
        "id": "NeyDVebQ43Lj"
      }
    },
    {
      "cell_type": "code",
      "source": [
        "from sklearn.feature_extraction.text import CountVectorizer\n",
        "from sklearn.model_selection import train_test_split\n",
        "\n",
        "X_train, X_test, y_train, y_test = train_test_split(df_processed['processed_reviews'], df_processed['sentiment'], test_size=0.2, random_state=0)\n",
        "X_train, X_val, y_train, y_val = train_test_split(X_train, y_train, test_size=0.15, random_state=0)\n",
        "\n",
        "# Verificar los tamaños de los conjuntos\n",
        "print(\"Tamaño de train:\", X_train.shape)\n",
        "print(\"Tamaño de val:\", X_val.shape)\n",
        "print(\"Tamaño de test:\", X_test.shape)"
      ],
      "metadata": {
        "colab": {
          "base_uri": "https://localhost:8080/"
        },
        "id": "uExcgsBf413Y",
        "outputId": "178d9cc6-b750-4e56-97c6-9b3927330f3b"
      },
      "execution_count": 3,
      "outputs": [
        {
          "output_type": "stream",
          "name": "stdout",
          "text": [
            "Tamaño de train: (27685,)\n",
            "Tamaño de val: (4886,)\n",
            "Tamaño de test: (8143,)\n"
          ]
        }
      ]
    },
    {
      "cell_type": "code",
      "source": [
        "# Vectorizamos\n",
        "\n",
        "vectorizer = CountVectorizer()\n",
        "X_train_bow = vectorizer.fit_transform(X_train)\n",
        "X_val_bow = vectorizer.transform(X_val)\n",
        "X_test_bow = vectorizer.transform(X_test)"
      ],
      "metadata": {
        "id": "MYjjj-ONANj4"
      },
      "execution_count": 4,
      "outputs": []
    },
    {
      "cell_type": "markdown",
      "source": [
        "## **3.3 Entrenamiendo de modelos Machine Learning**"
      ],
      "metadata": {
        "id": "JUO7PTZLHFTL"
      }
    },
    {
      "cell_type": "markdown",
      "source": [
        "Ahora vamos a entrenar algunos modelos. Probaremos con algunas opciones de clasificadores de Machine Learning, como Naive Bayes y algunos árboles de decisión. Para cada modelo buscaremos los mejores hiperparámetros.\n",
        "\n",
        "Después también entrenaremos el modelo con redes neuronales"
      ],
      "metadata": {
        "id": "PZxnPneWFzly"
      }
    },
    {
      "cell_type": "markdown",
      "source": [
        "### **3.3.1 Clasificador Naive Bayes**"
      ],
      "metadata": {
        "id": "waNy_YOWHJ3U"
      }
    },
    {
      "cell_type": "code",
      "source": [
        "# Clasificador Naive Bayes\n",
        "\n",
        "from sklearn.naive_bayes import MultinomialNB\n",
        "from sklearn.model_selection import GridSearchCV\n",
        "\n",
        "param_grid = {\n",
        "    'alpha': [0.1, 1.0, 10.0]\n",
        "}\n",
        "\n",
        "nb_classifier = MultinomialNB()\n",
        "\n",
        "grid_search = GridSearchCV(estimator=nb_classifier, param_grid = param_grid, cv=5)\n",
        "grid_search.fit(X_train_bow, y_train)\n",
        "\n",
        "print(f\"Best parameters: {grid_search.best_params_}\")"
      ],
      "metadata": {
        "colab": {
          "base_uri": "https://localhost:8080/"
        },
        "id": "ALue1EmNGZEZ",
        "outputId": "71609737-d20e-4b80-82ef-4360b8571492"
      },
      "execution_count": null,
      "outputs": [
        {
          "output_type": "stream",
          "name": "stdout",
          "text": [
            "Best parameters: {'alpha': 1.0}\n"
          ]
        }
      ]
    },
    {
      "cell_type": "code",
      "source": [
        "from sklearn.metrics import accuracy_score\n",
        "\n",
        "y_val_pred_nb = grid_search.predict(X_val_bow)\n",
        "\n",
        "accuracy = accuracy_score(y_val, y_val_pred_nb)\n",
        "\n",
        "print(\"Validation accuracy: \", accuracy)"
      ],
      "metadata": {
        "colab": {
          "base_uri": "https://localhost:8080/"
        },
        "id": "2fwctjD4G0fW",
        "outputId": "2f33b22c-6b0f-4a9a-d67e-927c768a67e0"
      },
      "execution_count": null,
      "outputs": [
        {
          "output_type": "stream",
          "name": "stdout",
          "text": [
            "Validation accuracy:  0.7961522717969709\n"
          ]
        }
      ]
    },
    {
      "cell_type": "markdown",
      "source": [
        "### **3.3.2 Clasificador Random Forest**"
      ],
      "metadata": {
        "id": "FeCEWeQ7HQtx"
      }
    },
    {
      "cell_type": "code",
      "source": [
        "# Clasificador con Random Forest\n",
        "\n",
        "from sklearn.model_selection import GridSearchCV\n",
        "from sklearn.ensemble import RandomForestClassifier\n",
        "\n",
        "maxDepth = range(10, 20)\n",
        "nEstimators = [100, 200, 500]\n",
        "param_grid = {'max_depth': maxDepth, 'n_estimators': nEstimators}\n",
        "\n",
        "grid = GridSearchCV(RandomForestClassifier(random_state=0, max_features='sqrt'), scoring='accuracy', param_grid=param_grid, cv=5)\n",
        "grid.fit(X_train_bow, y_train)\n",
        "\n",
        "print(\"best mean cross-validation score: {:.3f}\".format(grid.best_score_))\n",
        "print(\"best parameters: {}\".format(grid.best_params_))"
      ],
      "metadata": {
        "colab": {
          "base_uri": "https://localhost:8080/"
        },
        "id": "ldYtn7LiM2TZ",
        "outputId": "7846538e-00ba-4f52-c4ac-1e428b92392b"
      },
      "execution_count": null,
      "outputs": [
        {
          "output_type": "stream",
          "name": "stdout",
          "text": [
            "best mean cross-validation score: 0.629\n",
            "best parameters: {'max_depth': 19, 'n_estimators': 100}\n"
          ]
        }
      ]
    },
    {
      "cell_type": "code",
      "source": [
        "import numpy as np\n",
        "import matplotlib.pyplot as plt\n",
        "\n",
        "scores = np.array(grid.cv_results_['mean_test_score']).reshape(len(nEstimators), -1)\n",
        "\n",
        "# Plot the data\n",
        "for i, n_estimators in enumerate(nEstimators):\n",
        "    plt.plot(maxDepth, scores[i], '-o', label=f'n_estimators={n_estimators}')\n",
        "\n",
        "plt.xlabel('max_depth')\n",
        "plt.ylabel('10-fold ACC')\n",
        "plt.legend()\n",
        "plt.show()"
      ],
      "metadata": {
        "colab": {
          "base_uri": "https://localhost:8080/",
          "height": 452
        },
        "id": "-fs08duVPA2A",
        "outputId": "03001570-ac1c-441a-d234-3964a1bc3c67"
      },
      "execution_count": null,
      "outputs": [
        {
          "output_type": "display_data",
          "data": {
            "text/plain": [
              "<Figure size 640x480 with 1 Axes>"
            ],
            "image/png": "[encoded data removed]"
          },
          "metadata": {}
        }
      ]
    },
    {
      "cell_type": "markdown",
      "source": [
        "### **3.3.3 Clasificador Boosted Trees XGBoost**"
      ],
      "metadata": {
        "id": "my4RAemQHVsN"
      }
    },
    {
      "cell_type": "code",
      "source": [
        "# Clasificador con Boosted Trees XGBoost\n",
        "\n",
        "from xgboost import XGBClassifier\n",
        "\n",
        "maxDepth = [5, 7, 10]\n",
        "nEstimators = [100, 200, 300, 500, 1000]\n",
        "learningRate = [0.1, 0.05, 0.01]\n",
        "param_grid = {'max_depth': maxDepth, 'learning_rate':learningRate, 'n_estimators': nEstimators}\n",
        "\n",
        "grid = GridSearchCV(XGBClassifier(random_state=0), param_grid = param_grid)\n",
        "grid.fit(X_train_bow, y_train)\n",
        "\n",
        "print(\"best mean cross-validation score: {:.3f}\".format(grid.best_score_))\n",
        "print(\"best parameters: {}\".format(grid.best_params_))"
      ],
      "metadata": {
        "id": "QjLthkH6PEGf",
        "colab": {
          "base_uri": "https://localhost:8080/"
        },
        "outputId": "890617cc-f561-4421-de6d-48f169549e60"
      },
      "execution_count": null,
      "outputs": [
        {
          "output_type": "stream",
          "name": "stdout",
          "text": [
            "best mean cross-validation score: 0.813\n",
            "best parameters: {'learning_rate': 0.1, 'max_depth': 10, 'n_estimators': 1000}\n"
          ]
        }
      ]
    },
    {
      "cell_type": "code",
      "source": [
        "# Aplicamos los parámetros óptimos\n",
        "\n",
        "lrOptimo = grid.best_params_['learning_rate']\n",
        "neOptimo = grid.best_params_['n_estimators']\n",
        "maxDepthOptimo = grid.best_params_['max_depth']\n",
        "\n",
        "\n",
        "xgb = XGBClassifier(random_state = 0, max_depth = maxDepthOptimo, learning_rate = lrOptimo, n_estimators = neOptimo) #,\n",
        "                   #reg_alpha = 0.6, reg_lambda = 0.6)\n",
        "xgb.fit(X_train_bow, y_train)\n",
        "\n",
        "error = 1-grid.cv_results_['mean_test_score'].reshape(len(learningRate), -1)\n",
        "colors = ['r','b','g','k','m']\n",
        "\n",
        "for i, lr in enumerate(learningRate):\n",
        "  x = np.arange(len(error[i, :]))\n",
        "  plt.plot(x, error[i,:], colors[i] + '--o', label = 'lr = %g'%lr)\n",
        "\n",
        "plt.legend()\n",
        "plt.xlabel('# iteraciones')\n",
        "plt.ylabel('5-fold CV Error')\n",
        "plt.title('train: %0.3f\\nval:  %0.3f\\ntest:  %0.3f'%(xgb.score(X_train_bow,y_train), xgb.score(X_val_bow, y_val), xgb.score(X_test_bow,y_test)))\n",
        "plt.grid()\n",
        "plt.show()"
      ],
      "metadata": {
        "id": "FCQy3nAkQpVO",
        "colab": {
          "base_uri": "https://localhost:8080/",
          "height": 513
        },
        "outputId": "04d16822-ac5c-416c-d5dd-af0df77b161f"
      },
      "execution_count": null,
      "outputs": [
        {
          "output_type": "display_data",
          "data": {
            "text/plain": [
              "<Figure size 640x480 with 1 Axes>"
            ],
            "image/png": "[encoded data removed]"
          },
          "metadata": {}
        }
      ]
    },
    {
      "cell_type": "markdown",
      "source": [
        "### **3.3.4 Clasificador Gradient Boosting Machine**"
      ],
      "metadata": {
        "id": "g5LGXkTFHdhv"
      }
    },
    {
      "cell_type": "code",
      "source": [
        "# Ahora vamos a probar también con un Gradient Boosting Machine, que se enfoca en mejorar el rendimiento secuencialmente mediante la combinación de varios árboles débiles\n",
        "\n",
        "from sklearn.ensemble import GradientBoostingClassifier\n",
        "from sklearn.model_selection import GridSearchCV\n",
        "\n",
        "maxDepth = [5, 7, 10]\n",
        "nEstimators = [100, 200, 300, 500, 1000]\n",
        "learningRate = [0.1, 0.05, 0.01]\n",
        "param_grid = {'max_depth': maxDepth, 'learning_rate':learningRate, 'n_estimators': nEstimators}\n",
        "\n",
        "grid = GridSearchCV(GradientBoostingClassifier(random_state=0), param_grid = param_grid)\n",
        "grid.fit(X_train_bow, y_train)\n",
        "\n",
        "print(\"best mean cross-validation score: {:.3f}\".format(grid.best_score_))\n",
        "print(\"best parameters: {}\".format(grid.best_params_))"
      ],
      "metadata": {
        "id": "I3qRkfTXQzEM"
      },
      "execution_count": null,
      "outputs": []
    },
    {
      "cell_type": "code",
      "source": [
        "# Aplicamos los parámetros óptimos\n",
        "\n",
        "import numpy as np\n",
        "import matplotlib.pyplot as plt\n",
        "from sklearn.ensemble import GradientBoostingClassifier\n",
        "\n",
        "# best parameters: {'learning_rate': 0.1, 'max_depth': 10, 'n_estimators': 1000}\n",
        "\n",
        "# Tras ver que el entrenamiento puede tardar más del tiempo que Colab permite estar conectado y que no podemos terminar el entrenamiento,\n",
        "# vamos a prescindir de GridSearch para entrenar Gradient Boosting Machine y utilizaremos los hiperparámetros que mejor se ajustaban con xgboost\n",
        "\n",
        "# lrOptimo = grid.best_params_['learning_rate']\n",
        "# neOptimo = grid.best_params_['n_estimators']\n",
        "# maxDepthOptimo = grid.best_params_['max_depth']\n",
        "\n",
        "\n",
        "gbc = GradientBoostingClassifier(random_state = 0, max_depth = 10, learning_rate = 0.1, n_estimators = 1000)\n",
        "gbc.fit(X_train_bow, y_train)\n",
        "\n"
      ],
      "metadata": {
        "id": "oNF5-1BrRhC3",
        "colab": {
          "base_uri": "https://localhost:8080/",
          "height": 75
        },
        "outputId": "22654279-54a5-47c2-ce1a-bc3a98577d41"
      },
      "execution_count": null,
      "outputs": [
        {
          "output_type": "execute_result",
          "data": {
            "text/plain": [
              "GradientBoostingClassifier(max_depth=10, n_estimators=1000, random_state=0)"
            ],
            "text/html": [
              "<style>#sk-container-id-2 {color: black;background-color: white;}#sk-container-id-2 pre{padding: 0;}#sk-container-id-2 div.sk-toggleable {background-color: white;}#sk-container-id-2 label.sk-toggleable__label {cursor: pointer;display: block;width: 100%;margin-bottom: 0;padding: 0.3em;box-sizing: border-box;text-align: center;}#sk-container-id-2 label.sk-toggleable__label-arrow:before {content: \"▸\";float: left;margin-right: 0.25em;color: #696969;}#sk-container-id-2 label.sk-toggleable__label-arrow:hover:before {color: black;}#sk-container-id-2 div.sk-estimator:hover label.sk-toggleable__label-arrow:before {color: black;}#sk-container-id-2 div.sk-toggleable__content {max-height: 0;max-width: 0;overflow: hidden;text-align: left;background-color: #f0f8ff;}#sk-container-id-2 div.sk-toggleable__content pre {margin: 0.2em;color: black;border-radius: 0.25em;background-color: #f0f8ff;}#sk-container-id-2 input.sk-toggleable__control:checked~div.sk-toggleable__content {max-height: 200px;max-width: 100%;overflow: auto;}#sk-container-id-2 input.sk-toggleable__control:checked~label.sk-toggleable__label-arrow:before {content: \"▾\";}#sk-container-id-2 div.sk-estimator input.sk-toggleable__control:checked~label.sk-toggleable__label {background-color: #d4ebff;}#sk-container-id-2 div.sk-label input.sk-toggleable__control:checked~label.sk-toggleable__label {background-color: #d4ebff;}#sk-container-id-2 input.sk-hidden--visually {border: 0;clip: rect(1px 1px 1px 1px);clip: rect(1px, 1px, 1px, 1px);height: 1px;margin: -1px;overflow: hidden;padding: 0;position: absolute;width: 1px;}#sk-container-id-2 div.sk-estimator {font-family: monospace;background-color: #f0f8ff;border: 1px dotted black;border-radius: 0.25em;box-sizing: border-box;margin-bottom: 0.5em;}#sk-container-id-2 div.sk-estimator:hover {background-color: #d4ebff;}#sk-container-id-2 div.sk-parallel-item::after {content: \"\";width: 100%;border-bottom: 1px solid gray;flex-grow: 1;}#sk-container-id-2 div.sk-label:hover label.sk-toggleable__label {background-color: #d4ebff;}#sk-container-id-2 div.sk-serial::before {content: \"\";position: absolute;border-left: 1px solid gray;box-sizing: border-box;top: 0;bottom: 0;left: 50%;z-index: 0;}#sk-container-id-2 div.sk-serial {display: flex;flex-direction: column;align-items: center;background-color: white;padding-right: 0.2em;padding-left: 0.2em;position: relative;}#sk-container-id-2 div.sk-item {position: relative;z-index: 1;}#sk-container-id-2 div.sk-parallel {display: flex;align-items: stretch;justify-content: center;background-color: white;position: relative;}#sk-container-id-2 div.sk-item::before, #sk-container-id-2 div.sk-parallel-item::before {content: \"\";position: absolute;border-left: 1px solid gray;box-sizing: border-box;top: 0;bottom: 0;left: 50%;z-index: -1;}#sk-container-id-2 div.sk-parallel-item {display: flex;flex-direction: column;z-index: 1;position: relative;background-color: white;}#sk-container-id-2 div.sk-parallel-item:first-child::after {align-self: flex-end;width: 50%;}#sk-container-id-2 div.sk-parallel-item:last-child::after {align-self: flex-start;width: 50%;}#sk-container-id-2 div.sk-parallel-item:only-child::after {width: 0;}#sk-container-id-2 div.sk-dashed-wrapped {border: 1px dashed gray;margin: 0 0.4em 0.5em 0.4em;box-sizing: border-box;padding-bottom: 0.4em;background-color: white;}#sk-container-id-2 div.sk-label label {font-family: monospace;font-weight: bold;display: inline-block;line-height: 1.2em;}#sk-container-id-2 div.sk-label-container {text-align: center;}#sk-container-id-2 div.sk-container {/* jupyter's `normalize.less` sets `[hidden] { display: none; }` but bootstrap.min.css set `[hidden] { display: none !important; }` so we also need the `!important` here to be able to override the default hidden behavior on the sphinx rendered scikit-learn.org. See: https://github.com/scikit-learn/scikit-learn/issues/21755 */display: inline-block !important;position: relative;}#sk-container-id-2 div.sk-text-repr-fallback {display: none;}</style><div id=\"sk-container-id-2\" class=\"sk-top-container\"><div class=\"sk-text-repr-fallback\"><pre>GradientBoostingClassifier(max_depth=10, n_estimators=1000, random_state=0)</pre><b>In a Jupyter environment, please rerun this cell to show the HTML representation or trust the notebook. <br />On GitHub, the HTML representation is unable to render, please try loading this page with nbviewer.org.</b></div><div class=\"sk-container\" hidden><div class=\"sk-item\"><div class=\"sk-estimator sk-toggleable\"><input class=\"sk-toggleable__control sk-hidden--visually\" id=\"sk-estimator-id-2\" type=\"checkbox\" checked><label for=\"sk-estimator-id-2\" class=\"sk-toggleable__label sk-toggleable__label-arrow\">GradientBoostingClassifier</label><div class=\"sk-toggleable__content\"><pre>GradientBoostingClassifier(max_depth=10, n_estimators=1000, random_state=0)</pre></div></div></div></div></div>"
            ]
          },
          "metadata": {},
          "execution_count": 21
        }
      ]
    },
    {
      "cell_type": "code",
      "source": [
        "#error = 1-gbc.cv_results_['mean_test_score'].reshape(len(learningRate), -1)\n",
        "colors = ['r','b','g','k','m']\n",
        "\n",
        "#for i, lr in enumerate(learningRate):\n",
        "#  x = np.arange(len(error[i, :]))\n",
        "#  plt.plot(x, error[i,:], colors[i] + '--o', label = 'lr = %g'%lr)\n",
        "\n",
        "print(\"[{}] Accuracy: train = {}, val = {}, test = {}\".format(\n",
        "            gbc.__class__.__name__,\n",
        "            gbc.score(X_train_bow, y_train),\n",
        "            gbc.score(X_val_bow, y_val),\n",
        "            gbc.score(X_test_bow, y_test)))"
      ],
      "metadata": {
        "colab": {
          "base_uri": "https://localhost:8080/"
        },
        "id": "Rhix8YeritRx",
        "outputId": "da1d0d9a-7f47-4fc1-d99c-e96559d70b26"
      },
      "execution_count": null,
      "outputs": [
        {
          "output_type": "stream",
          "name": "stdout",
          "text": [
            "[GradientBoostingClassifier] Accuracy: train = 0.9552826440310638, val = 0.8108882521489972, test = 0.8105120962790127\n"
          ]
        }
      ]
    },
    {
      "cell_type": "markdown",
      "source": [
        "De los modelos ML, nos quedamos por ahora con XGBoost, que es el que mejores resultados nos ha dado y además tiene unos buenos tiempos de entrenamiento. Podríamos aplicar regularización en futuras iteraciones para reducir algo el posible overfitting que pueda tener.\n",
        "\n",
        "Vamos a probar ahora con algunos modelos de Deep Learning. Sería interesante poder comparar las diferencias entre modelos y su complejidad.\n",
        "Para ello, primero crearemos nuestra propia RNN (LSTM) y después exploraremos la utilización de un modelo BERT preentrenado, y compararemos los resultados.\n",
        "\n"
      ],
      "metadata": {
        "id": "59iWVtjlhu7B"
      }
    },
    {
      "cell_type": "markdown",
      "source": [
        "## **3.4 Entrenamiento Modelos Deep Learning**"
      ],
      "metadata": {
        "id": "kAqUBQwIHqBX"
      }
    },
    {
      "cell_type": "markdown",
      "source": [
        "### **3.4.1 Padding para rellenar vectores**"
      ],
      "metadata": {
        "id": "b2bazNN5IIOb"
      }
    },
    {
      "cell_type": "code",
      "source": [
        "# En primer lugar vamos a revisar la longitud media de las reviews, ya que necesitamos rellenar con 0 aquellas que sean cortas\n",
        "\n",
        "max_length = 0\n",
        "total_length = 0\n",
        "\n",
        "for example in X_train_bow:\n",
        "    length = example.getnnz()\n",
        "    total_length += length\n",
        "    if length > max_length:\n",
        "        max_length = length\n",
        "\n",
        "mean_length = total_length / X_train_bow.shape[0]\n",
        "\n",
        "print(\"Max Length:\", max_length)\n",
        "print(\"Mean Length:\", mean_length)"
      ],
      "metadata": {
        "colab": {
          "base_uri": "https://localhost:8080/"
        },
        "id": "wL7DI6SVh-_q",
        "outputId": "c0efae2d-2a42-430f-d523-791fd5e068a5"
      },
      "execution_count": null,
      "outputs": [
        {
          "output_type": "stream",
          "name": "stdout",
          "text": [
            "Max Length: 433\n",
            "Mean Length: 17.527000180603213\n"
          ]
        }
      ]
    },
    {
      "cell_type": "code",
      "source": [
        "max_length / mean_length"
      ],
      "metadata": {
        "colab": {
          "base_uri": "https://localhost:8080/"
        },
        "id": "CuzkLa9sln07",
        "outputId": "fce0ff6f-2219-4759-f09c-250a536b72e3"
      },
      "execution_count": null,
      "outputs": [
        {
          "output_type": "execute_result",
          "data": {
            "text/plain": [
              "24.704741001782644"
            ]
          },
          "metadata": {},
          "execution_count": 28
        }
      ]
    },
    {
      "cell_type": "code",
      "source": [
        "# Vamos a utilizar padding para que todos los vectores tengan longitud fija aprox el doble de sum(mean)/len(mean)\n",
        "from tensorflow.keras.utils import pad_sequences\n",
        "\n",
        "max_words = 40\n",
        "\n",
        "# Convertimos las matrices dispersas a arrays densos\n",
        "X_train_dense = X_train_bow.toarray()\n",
        "X_val_dense = X_val_bow.toarray()\n",
        "X_test_dense = X_test_bow.toarray()\n",
        "\n",
        "X_train_dl = pad_sequences(X_train_dense, maxlen=max_words)\n",
        "X_val_dl = pad_sequences(X_val_dense, maxlen=max_words)\n",
        "X_test_dl = pad_sequences(X_test_dense, maxlen=max_words)"
      ],
      "metadata": {
        "id": "zN09crzcmE57"
      },
      "execution_count": null,
      "outputs": []
    },
    {
      "cell_type": "code",
      "source": [
        "# Necesitamos el vocabulary size. En lugar de poner uno fijo, pondremos el tamaño real de nuestro vocabulario:\n",
        "\n",
        "from sklearn.feature_extraction.text import CountVectorizer\n",
        "\n",
        "# Crear el CountVectorizer\n",
        "vectorizer = CountVectorizer()\n",
        "\n",
        "# Ajustar el vectorizer y transformar los textos en la matriz término-documento\n",
        "matriz_term_doc = vectorizer.fit_transform(df_processed['processed_reviews'])\n",
        "\n",
        "# Obtener el tamaño del vocabulario (número de términos únicos)\n",
        "vocabulary_size = len(vectorizer.get_feature_names_out())\n",
        "\n",
        "print(\"Vocabulary size:\", vocabulary_size)"
      ],
      "metadata": {
        "colab": {
          "base_uri": "https://localhost:8080/"
        },
        "id": "5Ctctu2SopTh",
        "outputId": "ed193e53-2079-4524-afc7-fba76be8a2da"
      },
      "execution_count": null,
      "outputs": [
        {
          "output_type": "stream",
          "name": "stdout",
          "text": [
            "Vocabulary size: 23795\n"
          ]
        }
      ]
    },
    {
      "cell_type": "markdown",
      "source": [
        "### **3.4.2 Red LSTM**"
      ],
      "metadata": {
        "id": "oJGgEQgFITIC"
      }
    },
    {
      "cell_type": "code",
      "source": [
        "from keras.models import Sequential\n",
        "from keras.layers import Embedding, LSTM, Dense, Dropout\n",
        "\n",
        "embedding_size = 100\n",
        "model = Sequential()\n",
        "model.add(Embedding(vocabulary_size, embedding_size, input_length=max_words)) # Activamos return_sequences, para pasar la secuencia completa a la siguiente capa LSTM\n",
        "model.add(LSTM(128, return_sequences=True))\n",
        "model.add(Dropout(0.25)) # Dropout para reducir el overfit\n",
        "model.add(LSTM(64))\n",
        "model.add(Dense(64, activation='relu')) # Agregamos una capa densa con activación relu para tratar de capturar relaciones más complejas entre las características aprendidas en las capas LSTM\n",
        "model.add(Dense(1, activation='sigmoid'))\n",
        "\n",
        "print(model.summary())"
      ],
      "metadata": {
        "colab": {
          "base_uri": "https://localhost:8080/"
        },
        "id": "E4fh40rTlvs-",
        "outputId": "5d10f06e-978f-4d2a-9f71-18055518b29b"
      },
      "execution_count": null,
      "outputs": [
        {
          "output_type": "stream",
          "name": "stdout",
          "text": [
            "Model: \"sequential_3\"\n",
            "_________________________________________________________________\n",
            " Layer (type)                Output Shape              Param #   \n",
            "=================================================================\n",
            " embedding_2 (Embedding)     (None, 40, 100)           2379500   \n",
            "                                                                 \n",
            " lstm_3 (LSTM)               (None, 40, 128)           117248    \n",
            "                                                                 \n",
            " dropout_1 (Dropout)         (None, 40, 128)           0         \n",
            "                                                                 \n",
            " lstm_4 (LSTM)               (None, 64)                49408     \n",
            "                                                                 \n",
            " dense_3 (Dense)             (None, 64)                4160      \n",
            "                                                                 \n",
            " dense_4 (Dense)             (None, 1)                 65        \n",
            "                                                                 \n",
            "=================================================================\n",
            "Total params: 2,550,381\n",
            "Trainable params: 2,550,381\n",
            "Non-trainable params: 0\n",
            "_________________________________________________________________\n",
            "None\n"
          ]
        }
      ]
    },
    {
      "cell_type": "code",
      "source": [
        "model.compile(loss='binary_crossentropy', optimizer='adam', metrics=['accuracy'])"
      ],
      "metadata": {
        "id": "lYVwHoFQpIrW"
      },
      "execution_count": null,
      "outputs": []
    },
    {
      "cell_type": "code",
      "source": [
        "batch_size = 64\n",
        "num_epochs = 20\n",
        "\n",
        "model.fit(X_train_dl, y_train,\n",
        "          validation_data=(X_val_dl, y_val),\n",
        "          batch_size=batch_size, epochs=num_epochs)"
      ],
      "metadata": {
        "colab": {
          "base_uri": "https://localhost:8080/"
        },
        "id": "KZkGaTEVpPqw",
        "outputId": "c01d7475-ce92-4d79-9405-25a5e04ef449"
      },
      "execution_count": null,
      "outputs": [
        {
          "output_type": "stream",
          "name": "stdout",
          "text": [
            "Epoch 1/20\n",
            "433/433 [==============================] - 74s 163ms/step - loss: 0.6735 - accuracy: 0.6014 - val_loss: 0.6719 - val_accuracy: 0.6038\n",
            "Epoch 2/20\n",
            "433/433 [==============================] - 75s 172ms/step - loss: 0.6729 - accuracy: 0.6014 - val_loss: 0.6727 - val_accuracy: 0.6038\n",
            "Epoch 3/20\n",
            "433/433 [==============================] - 67s 153ms/step - loss: 0.6728 - accuracy: 0.6014 - val_loss: 0.6723 - val_accuracy: 0.6038\n",
            "Epoch 4/20\n",
            "433/433 [==============================] - 63s 145ms/step - loss: 0.6728 - accuracy: 0.6014 - val_loss: 0.6719 - val_accuracy: 0.6038\n",
            "Epoch 5/20\n",
            "433/433 [==============================] - 63s 146ms/step - loss: 0.6726 - accuracy: 0.6014 - val_loss: 0.6715 - val_accuracy: 0.6038\n",
            "Epoch 6/20\n",
            "433/433 [==============================] - 64s 148ms/step - loss: 0.6726 - accuracy: 0.6014 - val_loss: 0.6715 - val_accuracy: 0.6038\n",
            "Epoch 7/20\n",
            "433/433 [==============================] - 64s 147ms/step - loss: 0.6726 - accuracy: 0.6014 - val_loss: 0.6715 - val_accuracy: 0.6038\n",
            "Epoch 8/20\n",
            "433/433 [==============================] - 63s 145ms/step - loss: 0.6726 - accuracy: 0.6014 - val_loss: 0.6715 - val_accuracy: 0.6038\n",
            "Epoch 9/20\n",
            "433/433 [==============================] - 62s 144ms/step - loss: 0.6726 - accuracy: 0.6014 - val_loss: 0.6715 - val_accuracy: 0.6038\n",
            "Epoch 10/20\n",
            "433/433 [==============================] - 63s 145ms/step - loss: 0.6725 - accuracy: 0.6014 - val_loss: 0.6716 - val_accuracy: 0.6038\n",
            "Epoch 11/20\n",
            "433/433 [==============================] - 63s 145ms/step - loss: 0.6726 - accuracy: 0.6014 - val_loss: 0.6716 - val_accuracy: 0.6038\n",
            "Epoch 12/20\n",
            "433/433 [==============================] - 65s 151ms/step - loss: 0.6726 - accuracy: 0.6014 - val_loss: 0.6715 - val_accuracy: 0.6038\n",
            "Epoch 13/20\n",
            "433/433 [==============================] - 64s 148ms/step - loss: 0.6726 - accuracy: 0.6014 - val_loss: 0.6722 - val_accuracy: 0.6038\n",
            "Epoch 14/20\n",
            "433/433 [==============================] - 64s 149ms/step - loss: 0.6726 - accuracy: 0.6014 - val_loss: 0.6715 - val_accuracy: 0.6038\n",
            "Epoch 15/20\n",
            "433/433 [==============================] - 65s 150ms/step - loss: 0.6726 - accuracy: 0.6014 - val_loss: 0.6715 - val_accuracy: 0.6038\n",
            "Epoch 16/20\n",
            "433/433 [==============================] - 64s 148ms/step - loss: 0.6726 - accuracy: 0.6014 - val_loss: 0.6716 - val_accuracy: 0.6038\n",
            "Epoch 17/20\n",
            "433/433 [==============================] - 64s 149ms/step - loss: 0.6727 - accuracy: 0.6014 - val_loss: 0.6715 - val_accuracy: 0.6038\n",
            "Epoch 18/20\n",
            "433/433 [==============================] - 62s 142ms/step - loss: 0.6725 - accuracy: 0.6014 - val_loss: 0.6716 - val_accuracy: 0.6038\n",
            "Epoch 19/20\n",
            "433/433 [==============================] - 63s 146ms/step - loss: 0.6726 - accuracy: 0.6014 - val_loss: 0.6715 - val_accuracy: 0.6038\n",
            "Epoch 20/20\n",
            "433/433 [==============================] - 62s 144ms/step - loss: 0.6726 - accuracy: 0.6014 - val_loss: 0.6715 - val_accuracy: 0.6038\n"
          ]
        },
        {
          "output_type": "execute_result",
          "data": {
            "text/plain": [
              "<keras.callbacks.History at 0x7a6adb1440a0>"
            ]
          },
          "metadata": {},
          "execution_count": 45
        }
      ]
    },
    {
      "cell_type": "code",
      "source": [
        "scores = model.evaluate(X_test_dl, y_test, verbose=0)  # returns loss and other metrics specified in model.compile()\n",
        "print(\"Test accuracy:\", scores[1])  # scores[1] should correspond to accuracy if you passed in metrics=['accuracy']"
      ],
      "metadata": {
        "colab": {
          "base_uri": "https://localhost:8080/"
        },
        "id": "Jt6ak75Npqud",
        "outputId": "c864747e-3335-4dd9-977c-9d9bdd1843f1"
      },
      "execution_count": null,
      "outputs": [
        {
          "output_type": "stream",
          "name": "stdout",
          "text": [
            "Test accuracy: 0.5930246710777283\n"
          ]
        }
      ]
    },
    {
      "cell_type": "markdown",
      "source": [
        "El modelo LSTM no logra alcanzar unos buenos resultados, si comparamos con los modelos ML.\n",
        "Sería interesante modificar algunas capas de la red, añadir algunas, probar con diferentes regularizaciones y probar modificando algunos parámetros. Por ahora seguiremos avanzando y lo veremos en siguientes iteraciones, ya que queremos ver los resultados base y comparar con otros modelos.\n",
        "\n",
        " Probaremos a utilizar ahora un modelo preentrenado BERT."
      ],
      "metadata": {
        "id": "9BZttugTD_yj"
      }
    },
    {
      "cell_type": "markdown",
      "source": [
        "### **3.4.3 Modelo BERT Preentrenado**"
      ],
      "metadata": {
        "id": "IQesdCHQItv4"
      }
    },
    {
      "cell_type": "markdown",
      "source": [
        "A continuación se muestra el desarrollo del **modelo de transformers BERT**, el cuál no se ha logrado hacer funcionar debido a la **limitación de memoria de Colab** (tampoco hubiera sido posible con la capacidad de mi equipo actual en un Jupyter Notebook).\n",
        "Se probó a dividir en batches con la idea de lotear y que la gestión de memoria permitiera procesar los embeddings, pero aún con batches muy pequeños no fue posible y tras varias horas de ejecución el notebook se caía.\n",
        "\n",
        "Se deja no obstante el código para seguir intentando resolver el problema en posteriores iteraciones."
      ],
      "metadata": {
        "id": "85AmNTdoI0Ug"
      }
    },
    {
      "cell_type": "code",
      "source": [
        "! pip install transformers tensorflow"
      ],
      "metadata": {
        "colab": {
          "base_uri": "https://localhost:8080/"
        },
        "id": "6Q0bmy2_D-DA",
        "outputId": "784d8eef-7196-4a68-e581-a83c87b947f1"
      },
      "execution_count": null,
      "outputs": [
        {
          "output_type": "stream",
          "name": "stdout",
          "text": [
            "Collecting transformers\n",
            "  Downloading transformers-4.31.0-py3-none-any.whl (7.4 MB)\n",
            "\u001b[2K     \u001b[90m━━━━━━━━━━━━━━━━━━━━━━━━━━━━━━━━━━━━━━━━\u001b[0m \u001b[32m7.4/7.4 MB\u001b[0m \u001b[31m35.6 MB/s\u001b[0m eta \u001b[36m0:00:00\u001b[0m\n",
            "\u001b[?25hRequirement already satisfied: tensorflow in /usr/local/lib/python3.10/dist-packages (2.12.0)\n",
            "Requirement already satisfied: filelock in /usr/local/lib/python3.10/dist-packages (from transformers) (3.12.2)\n",
            "Collecting huggingface-hub<1.0,>=0.14.1 (from transformers)\n",
            "  Downloading huggingface_hub-0.16.4-py3-none-any.whl (268 kB)\n",
            "\u001b[2K     \u001b[90m━━━━━━━━━━━━━━━━━━━━━━━━━━━━━━━━━━━━━━\u001b[0m \u001b[32m268.8/268.8 kB\u001b[0m \u001b[31m22.1 MB/s\u001b[0m eta \u001b[36m0:00:00\u001b[0m\n",
            "\u001b[?25hRequirement already satisfied: numpy>=1.17 in /usr/local/lib/python3.10/dist-packages (from transformers) (1.22.4)\n",
            "Requirement already satisfied: packaging>=20.0 in /usr/local/lib/python3.10/dist-packages (from transformers) (23.1)\n",
            "Requirement already satisfied: pyyaml>=5.1 in /usr/local/lib/python3.10/dist-packages (from transformers) (6.0.1)\n",
            "Requirement already satisfied: regex!=2019.12.17 in /usr/local/lib/python3.10/dist-packages (from transformers) (2022.10.31)\n",
            "Requirement already satisfied: requests in /usr/local/lib/python3.10/dist-packages (from transformers) (2.27.1)\n",
            "Collecting tokenizers!=0.11.3,<0.14,>=0.11.1 (from transformers)\n",
            "  Downloading tokenizers-0.13.3-cp310-cp310-manylinux_2_17_x86_64.manylinux2014_x86_64.whl (7.8 MB)\n",
            "\u001b[2K     \u001b[90m━━━━━━━━━━━━━━━━━━━━━━━━━━━━━━━━━━━━━━━━\u001b[0m \u001b[32m7.8/7.8 MB\u001b[0m \u001b[31m56.0 MB/s\u001b[0m eta \u001b[36m0:00:00\u001b[0m\n",
            "\u001b[?25hCollecting safetensors>=0.3.1 (from transformers)\n",
            "  Downloading safetensors-0.3.1-cp310-cp310-manylinux_2_17_x86_64.manylinux2014_x86_64.whl (1.3 MB)\n",
            "\u001b[2K     \u001b[90m━━━━━━━━━━━━━━━━━━━━━━━━━━━━━━━━━━━━━━━━\u001b[0m \u001b[32m1.3/1.3 MB\u001b[0m \u001b[31m58.1 MB/s\u001b[0m eta \u001b[36m0:00:00\u001b[0m\n",
            "\u001b[?25hRequirement already satisfied: tqdm>=4.27 in /usr/local/lib/python3.10/dist-packages (from transformers) (4.65.0)\n",
            "Requirement already satisfied: absl-py>=1.0.0 in /usr/local/lib/python3.10/dist-packages (from tensorflow) (1.4.0)\n",
            "Requirement already satisfied: astunparse>=1.6.0 in /usr/local/lib/python3.10/dist-packages (from tensorflow) (1.6.3)\n",
            "Requirement already satisfied: flatbuffers>=2.0 in /usr/local/lib/python3.10/dist-packages (from tensorflow) (23.5.26)\n",
            "Requirement already satisfied: gast<=0.4.0,>=0.2.1 in /usr/local/lib/python3.10/dist-packages (from tensorflow) (0.4.0)\n",
            "Requirement already satisfied: google-pasta>=0.1.1 in /usr/local/lib/python3.10/dist-packages (from tensorflow) (0.2.0)\n",
            "Requirement already satisfied: grpcio<2.0,>=1.24.3 in /usr/local/lib/python3.10/dist-packages (from tensorflow) (1.56.2)\n",
            "Requirement already satisfied: h5py>=2.9.0 in /usr/local/lib/python3.10/dist-packages (from tensorflow) (3.8.0)\n",
            "Requirement already satisfied: jax>=0.3.15 in /usr/local/lib/python3.10/dist-packages (from tensorflow) (0.4.13)\n",
            "Requirement already satisfied: keras<2.13,>=2.12.0 in /usr/local/lib/python3.10/dist-packages (from tensorflow) (2.12.0)\n",
            "Requirement already satisfied: libclang>=13.0.0 in /usr/local/lib/python3.10/dist-packages (from tensorflow) (16.0.6)\n",
            "Requirement already satisfied: opt-einsum>=2.3.2 in /usr/local/lib/python3.10/dist-packages (from tensorflow) (3.3.0)\n",
            "Requirement already satisfied: protobuf!=4.21.0,!=4.21.1,!=4.21.2,!=4.21.3,!=4.21.4,!=4.21.5,<5.0.0dev,>=3.20.3 in /usr/local/lib/python3.10/dist-packages (from tensorflow) (3.20.3)\n",
            "Requirement already satisfied: setuptools in /usr/local/lib/python3.10/dist-packages (from tensorflow) (67.7.2)\n",
            "Requirement already satisfied: six>=1.12.0 in /usr/local/lib/python3.10/dist-packages (from tensorflow) (1.16.0)\n",
            "Requirement already satisfied: tensorboard<2.13,>=2.12 in /usr/local/lib/python3.10/dist-packages (from tensorflow) (2.12.3)\n",
            "Requirement already satisfied: tensorflow-estimator<2.13,>=2.12.0 in /usr/local/lib/python3.10/dist-packages (from tensorflow) (2.12.0)\n",
            "Requirement already satisfied: termcolor>=1.1.0 in /usr/local/lib/python3.10/dist-packages (from tensorflow) (2.3.0)\n",
            "Requirement already satisfied: typing-extensions>=3.6.6 in /usr/local/lib/python3.10/dist-packages (from tensorflow) (4.7.1)\n",
            "Requirement already satisfied: wrapt<1.15,>=1.11.0 in /usr/local/lib/python3.10/dist-packages (from tensorflow) (1.14.1)\n",
            "Requirement already satisfied: tensorflow-io-gcs-filesystem>=0.23.1 in /usr/local/lib/python3.10/dist-packages (from tensorflow) (0.32.0)\n",
            "Requirement already satisfied: wheel<1.0,>=0.23.0 in /usr/local/lib/python3.10/dist-packages (from astunparse>=1.6.0->tensorflow) (0.41.0)\n",
            "Requirement already satisfied: fsspec in /usr/local/lib/python3.10/dist-packages (from huggingface-hub<1.0,>=0.14.1->transformers) (2023.6.0)\n",
            "Requirement already satisfied: ml-dtypes>=0.1.0 in /usr/local/lib/python3.10/dist-packages (from jax>=0.3.15->tensorflow) (0.2.0)\n",
            "Requirement already satisfied: scipy>=1.7 in /usr/local/lib/python3.10/dist-packages (from jax>=0.3.15->tensorflow) (1.10.1)\n",
            "Requirement already satisfied: google-auth<3,>=1.6.3 in /usr/local/lib/python3.10/dist-packages (from tensorboard<2.13,>=2.12->tensorflow) (2.17.3)\n",
            "Requirement already satisfied: google-auth-oauthlib<1.1,>=0.5 in /usr/local/lib/python3.10/dist-packages (from tensorboard<2.13,>=2.12->tensorflow) (1.0.0)\n",
            "Requirement already satisfied: markdown>=2.6.8 in /usr/local/lib/python3.10/dist-packages (from tensorboard<2.13,>=2.12->tensorflow) (3.4.4)\n",
            "Requirement already satisfied: tensorboard-data-server<0.8.0,>=0.7.0 in /usr/local/lib/python3.10/dist-packages (from tensorboard<2.13,>=2.12->tensorflow) (0.7.1)\n",
            "Requirement already satisfied: werkzeug>=1.0.1 in /usr/local/lib/python3.10/dist-packages (from tensorboard<2.13,>=2.12->tensorflow) (2.3.6)\n",
            "Requirement already satisfied: urllib3<1.27,>=1.21.1 in /usr/local/lib/python3.10/dist-packages (from requests->transformers) (1.26.16)\n",
            "Requirement already satisfied: certifi>=2017.4.17 in /usr/local/lib/python3.10/dist-packages (from requests->transformers) (2023.7.22)\n",
            "Requirement already satisfied: charset-normalizer~=2.0.0 in /usr/local/lib/python3.10/dist-packages (from requests->transformers) (2.0.12)\n",
            "Requirement already satisfied: idna<4,>=2.5 in /usr/local/lib/python3.10/dist-packages (from requests->transformers) (3.4)\n",
            "Requirement already satisfied: cachetools<6.0,>=2.0.0 in /usr/local/lib/python3.10/dist-packages (from google-auth<3,>=1.6.3->tensorboard<2.13,>=2.12->tensorflow) (5.3.1)\n",
            "Requirement already satisfied: pyasn1-modules>=0.2.1 in /usr/local/lib/python3.10/dist-packages (from google-auth<3,>=1.6.3->tensorboard<2.13,>=2.12->tensorflow) (0.3.0)\n",
            "Requirement already satisfied: rsa<5,>=3.1.4 in /usr/local/lib/python3.10/dist-packages (from google-auth<3,>=1.6.3->tensorboard<2.13,>=2.12->tensorflow) (4.9)\n",
            "Requirement already satisfied: requests-oauthlib>=0.7.0 in /usr/local/lib/python3.10/dist-packages (from google-auth-oauthlib<1.1,>=0.5->tensorboard<2.13,>=2.12->tensorflow) (1.3.1)\n",
            "Requirement already satisfied: MarkupSafe>=2.1.1 in /usr/local/lib/python3.10/dist-packages (from werkzeug>=1.0.1->tensorboard<2.13,>=2.12->tensorflow) (2.1.3)\n",
            "Requirement already satisfied: pyasn1<0.6.0,>=0.4.6 in /usr/local/lib/python3.10/dist-packages (from pyasn1-modules>=0.2.1->google-auth<3,>=1.6.3->tensorboard<2.13,>=2.12->tensorflow) (0.5.0)\n",
            "Requirement already satisfied: oauthlib>=3.0.0 in /usr/local/lib/python3.10/dist-packages (from requests-oauthlib>=0.7.0->google-auth-oauthlib<1.1,>=0.5->tensorboard<2.13,>=2.12->tensorflow) (3.2.2)\n",
            "Installing collected packages: tokenizers, safetensors, huggingface-hub, transformers\n",
            "Successfully installed huggingface-hub-0.16.4 safetensors-0.3.1 tokenizers-0.13.3 transformers-4.31.0\n"
          ]
        }
      ]
    },
    {
      "cell_type": "code",
      "source": [
        "from transformers import BertTokenizer, TFBertModel\n",
        "import tensorflow as tf\n",
        "\n",
        "# Descargamos el tokenizador BERT y el modelo preentrenado\n",
        "\n",
        "tokenizer = BertTokenizer.from_pretrained('bert-base-uncased', max_vocab_size=1000)\n",
        "model = TFBertModel.from_pretrained('bert-base-uncased')\n"
      ],
      "metadata": {
        "colab": {
          "base_uri": "https://localhost:8080/"
        },
        "id": "GFF9WjQQE5bj",
        "outputId": "98d38163-34ba-47bc-b652-ac12713a4d96"
      },
      "execution_count": null,
      "outputs": [
        {
          "output_type": "stream",
          "name": "stderr",
          "text": [
            "Some weights of the PyTorch model were not used when initializing the TF 2.0 model TFBertModel: ['cls.predictions.transform.LayerNorm.weight', 'cls.predictions.transform.dense.bias', 'cls.seq_relationship.bias', 'cls.predictions.bias', 'cls.predictions.transform.LayerNorm.bias', 'cls.seq_relationship.weight', 'cls.predictions.transform.dense.weight']\n",
            "- This IS expected if you are initializing TFBertModel from a PyTorch model trained on another task or with another architecture (e.g. initializing a TFBertForSequenceClassification model from a BertForPreTraining model).\n",
            "- This IS NOT expected if you are initializing TFBertModel from a PyTorch model that you expect to be exactly identical (e.g. initializing a TFBertForSequenceClassification model from a BertForSequenceClassification model).\n",
            "All the weights of TFBertModel were initialized from the PyTorch model.\n",
            "If your task is similar to the task the model of the checkpoint was trained on, you can already use TFBertModel for predictions without further training.\n"
          ]
        }
      ]
    },
    {
      "cell_type": "code",
      "source": [
        "import numpy as np\n",
        "\n",
        "# Para utilizar el modelo preentrenado, debemos tokenizar de nuevo, usando el tokenizador de Bert\n",
        "\n",
        "# Obtener los textos y dividirlos en lotes más pequeños\n",
        "texts = df_processed['reviewText'].tolist()\n",
        "batch_size = 8\n",
        "num_batches = int(np.ceil(len(texts) / batch_size))\n"
      ],
      "metadata": {
        "id": "3YmNLfK9FBKB"
      },
      "execution_count": null,
      "outputs": []
    },
    {
      "cell_type": "code",
      "source": [
        "# Pasamos los datos tokenizados al modelo para obtener los embeddings\n",
        "\n",
        "# Procesar los lotes y obtener los embeddings\n",
        "embeddings_list = []\n",
        "for i in range(num_batches):\n",
        "    start_idx = i * batch_size\n",
        "    end_idx = (i + 1) * batch_size\n",
        "    batch_texts = texts[start_idx:end_idx]\n",
        "\n",
        "    encoded_data = tokenizer(batch_texts, padding=True, truncation=True, return_tensors='tf')\n",
        "    model_outputs = model(**encoded_data)\n",
        "    embeddings = model_outputs.last_hidden_state\n",
        "    embeddings_list.append(embeddings)\n",
        "\n",
        "# Concatenar los embeddings de los lotes en un único tensor\n",
        "all_embeddings = tf.concat(embeddings_list, axis=0)"
      ],
      "metadata": {
        "id": "v8gmO_1NGglK"
      },
      "execution_count": null,
      "outputs": []
    },
    {
      "cell_type": "markdown",
      "source": [
        "Ha habido algunos problemas con la gestión de memoria. Bert excedía lo permitido por Colab y he tenido que dividir el conjunto de datos en lotes y procesarlo por lotes (batching).\n",
        "También se hicieron pruebas con la librería **TFLiteConverter** para obtener un modelo 'lite' pero tampoco fue suficiente. También limitamos el tamaño del vocabulario de Bert a riesgo de obtener unos resultados pobres, pero tampoco fue suficiente para hacerlo funcionar."
      ],
      "metadata": {
        "id": "8W7_G7toPh7G"
      }
    },
    {
      "cell_type": "markdown",
      "source": [
        "## **3.5 Conclusiones**"
      ],
      "metadata": {
        "id": "RXzR-xWXKKi-"
      }
    },
    {
      "cell_type": "markdown",
      "source": [
        "El modelo con el que nos quedaremos finalmente será con el **clasificador Boosted Trees XGBoost**, que nos ha dado una accuracy de 0.813, por encima de cualquiera de los otros modelos.\n",
        "\n",
        "En mi opinión, esto demuestra la dificultad de entrenar una red neuronal para obtener buenos resultados ya que, más allá de la preparación mejor o peor de los datos, es necesario diseñar una arquitectura adecuada, o tener un modelo preentrenado adecuado, además de una gran capacidad de procesamiento.\n",
        "\n",
        "A continuación, guardaremos el modelo para poder utilizarlo en el siguiente notebook (Reporte de métricas y conclusiones)"
      ],
      "metadata": {
        "id": "qdfT6LrVKOAe"
      }
    },
    {
      "cell_type": "code",
      "source": [
        "from xgboost import XGBClassifier\n",
        "from sklearn.metrics import accuracy_score\n",
        "\n",
        "# Aplicaremos los best parameters directamente.\n",
        "# best parameters: {'learning_rate': 0.1, 'max_depth': 10, 'n_estimators': 1000}\n",
        "\n",
        "lrOptimo = 0.1\n",
        "neOptimo = 1000\n",
        "maxDepthOptimo = 10\n",
        "\n",
        "\n",
        "xgb = XGBClassifier(random_state = 0, max_depth = maxDepthOptimo, learning_rate = lrOptimo, n_estimators = neOptimo,\n",
        "                   reg_alpha = 0.6, reg_lambda = 0.6) # Le aplicamos regularización y logramos mejorar un poco el resultado, de 0.815 a 0,8166\n",
        "xgb.fit(X_train_bow, y_train)\n",
        "\n",
        "from sklearn.metrics import accuracy_score\n",
        "\n",
        "y_pred = xgb.predict(X_val_bow)\n",
        "accuracy = accuracy_score(y_val, y_pred)\n",
        "print(\"Accuracy:\", accuracy)"
      ],
      "metadata": {
        "colab": {
          "base_uri": "https://localhost:8080/"
        },
        "id": "B6RLHKdSL7p5",
        "outputId": "a2578bcf-3317-4255-ae59-a00c807641c0"
      },
      "execution_count": 8,
      "outputs": [
        {
          "output_type": "stream",
          "name": "stdout",
          "text": [
            "Accuracy: 0.8166189111747851\n"
          ]
        }
      ]
    },
    {
      "cell_type": "code",
      "source": [
        "# Guardamos el modelo\n",
        "\n",
        "import joblib\n",
        "\n",
        "model_filename = '/content/drive/MyDrive/NLP/sentiment_analysis_model.pkl'\n",
        "joblib.dump(xgb, model_filename)"
      ],
      "metadata": {
        "colab": {
          "base_uri": "https://localhost:8080/"
        },
        "id": "JVQWzfQ_RnJE",
        "outputId": "5199bd6b-a705-43bb-8541-2a56cf45fc9a"
      },
      "execution_count": 9,
      "outputs": [
        {
          "output_type": "execute_result",
          "data": {
            "text/plain": [
              "['/content/drive/MyDrive/NLP/sentiment_analysis_model.pkl']"
            ]
          },
          "metadata": {},
          "execution_count": 9
        }
      ]
    },
    {
      "cell_type": "code",
      "source": [
        "# Guardamos los datos de test para poder calcular las métricas en el siguiente notebook\n",
        "import pandas as pd\n",
        "\n",
        "test_data = pd.DataFrame ({'processed_reviews': X_test, 'sentiment': y_test})\n",
        "\n",
        "test_path = '/content/drive/MyDrive/NLP/test_data.csv'\n",
        "\n",
        "test_data.to_csv(test_path, index=False)\n"
      ],
      "metadata": {
        "id": "5uhPE_ipTgc3"
      },
      "execution_count": 10,
      "outputs": []
    },
    {
      "cell_type": "code",
      "source": [
        "# Guardamos también el Vectorizer para poder usarlo en el otro notebook\n",
        "\n",
        "joblib.dump(vectorizer, '/content/drive/MyDrive/NLP/vectorizer.pkl')"
      ],
      "metadata": {
        "colab": {
          "base_uri": "https://localhost:8080/"
        },
        "id": "iyeR6g3ZWRQi",
        "outputId": "26fabd97-c031-437f-b6a9-92a7d5c5e952"
      },
      "execution_count": 11,
      "outputs": [
        {
          "output_type": "execute_result",
          "data": {
            "text/plain": [
              "['/content/drive/MyDrive/NLP/vectorizer.pkl']"
            ]
          },
          "metadata": {},
          "execution_count": 11
        }
      ]
    }
  ]
}